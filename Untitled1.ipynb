{
  "nbformat": 4,
  "nbformat_minor": 0,
  "metadata": {
    "colab": {
      "name": "Untitled1.ipynb",
      "provenance": [],
      "authorship_tag": "ABX9TyOvYjL8dBUylMqxuJizKwen",
      "include_colab_link": true
    },
    "kernelspec": {
      "name": "python3",
      "display_name": "Python 3"
    },
    "language_info": {
      "name": "python"
    }
  },
  "cells": [
    {
      "cell_type": "markdown",
      "metadata": {
        "id": "view-in-github",
        "colab_type": "text"
      },
      "source": [
        "<a href=\"https://colab.research.google.com/github/KatiaMarchini/aula-javascript/blob/main/Untitled1.ipynb\" target=\"_parent\"><img src=\"https://colab.research.google.com/assets/colab-badge.svg\" alt=\"Open In Colab\"/></a>"
      ]
    },
    {
      "cell_type": "code",
      "metadata": {
        "id": "JymcWL-uCZDB"
      },
      "source": [
        "#criando uma lista chamada animais"
      ],
      "execution_count": 1,
      "outputs": []
    },
    {
      "cell_type": "code",
      "metadata": {
        "id": "TZUKuvgGDi6F"
      },
      "source": [
        "animais = [1,2,3,4]\n"
      ],
      "execution_count": 2,
      "outputs": []
    },
    {
      "cell_type": "code",
      "metadata": {
        "colab": {
          "base_uri": "https://localhost:8080/"
        },
        "id": "RFkdLcdTDs-k",
        "outputId": "b5f1bdc2-9ca3-4a3c-f8e0-0edab0f3f3b7"
      },
      "source": [
        "animais"
      ],
      "execution_count": 3,
      "outputs": [
        {
          "output_type": "execute_result",
          "data": {
            "text/plain": [
              "[1, 2, 3, 4]"
            ]
          },
          "metadata": {},
          "execution_count": 3
        }
      ]
    },
    {
      "cell_type": "code",
      "metadata": {
        "id": "R546u87JD0BF"
      },
      "source": [
        "animais = [\"cachorro\", \"cavalos\",\"gatos\",123]"
      ],
      "execution_count": 5,
      "outputs": []
    },
    {
      "cell_type": "code",
      "metadata": {
        "colab": {
          "base_uri": "https://localhost:8080/"
        },
        "id": "wMTdaXMQENB-",
        "outputId": "d3c86c36-2633-4a26-97a4-d4cfa2476022"
      },
      "source": [
        "animais"
      ],
      "execution_count": 6,
      "outputs": [
        {
          "output_type": "execute_result",
          "data": {
            "text/plain": [
              "['cachorro', 'cavalos', 'gatos', 123]"
            ]
          },
          "metadata": {},
          "execution_count": 6
        }
      ]
    },
    {
      "cell_type": "code",
      "metadata": {
        "colab": {
          "base_uri": "https://localhost:8080/",
          "height": 35
        },
        "id": "0qu7ic1fEQIz",
        "outputId": "2bcde1e9-39bf-4852-9099-bbf5ed2150e6"
      },
      "source": [
        "animais[0]"
      ],
      "execution_count": 7,
      "outputs": [
        {
          "output_type": "execute_result",
          "data": {
            "application/vnd.google.colaboratory.intrinsic+json": {
              "type": "string"
            },
            "text/plain": [
              "'cachorro'"
            ]
          },
          "metadata": {},
          "execution_count": 7
        }
      ]
    },
    {
      "cell_type": "code",
      "metadata": {
        "colab": {
          "base_uri": "https://localhost:8080/"
        },
        "id": "kD-jxe5iEXjz",
        "outputId": "066c416f-3fb5-473a-caa2-3fa24744c1ee"
      },
      "source": [
        "animais[3]"
      ],
      "execution_count": 8,
      "outputs": [
        {
          "output_type": "execute_result",
          "data": {
            "text/plain": [
              "123"
            ]
          },
          "metadata": {},
          "execution_count": 8
        }
      ]
    },
    {
      "cell_type": "code",
      "metadata": {
        "id": "i5ATk2QYEkkd"
      },
      "source": [
        "#Substituindo o primeiro elemento da lista"
      ],
      "execution_count": 9,
      "outputs": []
    },
    {
      "cell_type": "code",
      "metadata": {
        "id": "QsHqVZd1Ep17"
      },
      "source": [
        "animais[0] = \"papagaio\""
      ],
      "execution_count": 10,
      "outputs": []
    },
    {
      "cell_type": "code",
      "metadata": {
        "colab": {
          "base_uri": "https://localhost:8080/",
          "height": 35
        },
        "id": "JY8yRAPpEvsW",
        "outputId": "656f2493-8703-44f8-fd83-2eb64883333e"
      },
      "source": [
        "animais[0]"
      ],
      "execution_count": 11,
      "outputs": [
        {
          "output_type": "execute_result",
          "data": {
            "application/vnd.google.colaboratory.intrinsic+json": {
              "type": "string"
            },
            "text/plain": [
              "'papagaio'"
            ]
          },
          "metadata": {},
          "execution_count": 11
        }
      ]
    },
    {
      "cell_type": "code",
      "metadata": {
        "colab": {
          "base_uri": "https://localhost:8080/",
          "height": 35
        },
        "id": "eYdPiTg6E0Gl",
        "outputId": "71e50d79-a912-4e2a-c9c4-7fe20bb5a64c"
      },
      "source": [
        "animais[0]"
      ],
      "execution_count": 15,
      "outputs": [
        {
          "output_type": "execute_result",
          "data": {
            "application/vnd.google.colaboratory.intrinsic+json": {
              "type": "string"
            },
            "text/plain": [
              "'papagaio'"
            ]
          },
          "metadata": {},
          "execution_count": 15
        }
      ]
    },
    {
      "cell_type": "code",
      "metadata": {
        "colab": {
          "base_uri": "https://localhost:8080/",
          "height": 35
        },
        "id": "eZAkhs-mFFuM",
        "outputId": "88f3495a-2fe3-41dd-eb42-633a487da2fb"
      },
      "source": [
        "animais[1]"
      ],
      "execution_count": 16,
      "outputs": [
        {
          "output_type": "execute_result",
          "data": {
            "application/vnd.google.colaboratory.intrinsic+json": {
              "type": "string"
            },
            "text/plain": [
              "'cavalos'"
            ]
          },
          "metadata": {},
          "execution_count": 16
        }
      ]
    },
    {
      "cell_type": "code",
      "metadata": {
        "colab": {
          "base_uri": "https://localhost:8080/"
        },
        "id": "wGCSDRpLFJyL",
        "outputId": "21ed4f2f-de5d-450e-f8de-9a2f145fc098"
      },
      "source": [
        "animais"
      ],
      "execution_count": 19,
      "outputs": [
        {
          "output_type": "execute_result",
          "data": {
            "text/plain": [
              "['papagaio', 'cavalos', 'gatos', 123]"
            ]
          },
          "metadata": {},
          "execution_count": 19
        }
      ]
    },
    {
      "cell_type": "code",
      "metadata": {
        "id": "_oVCSJodFedF"
      },
      "source": [
        "animais[3]= \"cachorro\""
      ],
      "execution_count": 21,
      "outputs": []
    },
    {
      "cell_type": "code",
      "metadata": {
        "colab": {
          "base_uri": "https://localhost:8080/"
        },
        "id": "fhIv6YunFlxE",
        "outputId": "6440d972-a761-4237-b482-37cc92c160a6"
      },
      "source": [
        "animais"
      ],
      "execution_count": 22,
      "outputs": [
        {
          "output_type": "execute_result",
          "data": {
            "text/plain": [
              "['papagaio', 'cavalos', 'gatos', 'cachorro']"
            ]
          },
          "metadata": {},
          "execution_count": 22
        }
      ]
    },
    {
      "cell_type": "code",
      "metadata": {
        "id": "VdmUO0xtFuB8"
      },
      "source": [
        "#removendo papagaio da lista"
      ],
      "execution_count": 23,
      "outputs": []
    },
    {
      "cell_type": "code",
      "metadata": {
        "id": "gwTKc6UuF4Rr"
      },
      "source": [
        "animais.remove(\"papagaio\")"
      ],
      "execution_count": 24,
      "outputs": []
    },
    {
      "cell_type": "code",
      "metadata": {
        "colab": {
          "base_uri": "https://localhost:8080/"
        },
        "id": "JmAcIchwFVWc",
        "outputId": "6217b69b-4714-4136-9a41-6e9093eee476"
      },
      "source": [
        "animais"
      ],
      "execution_count": 25,
      "outputs": [
        {
          "output_type": "execute_result",
          "data": {
            "text/plain": [
              "['cavalos', 'gatos', 'cachorro']"
            ]
          },
          "metadata": {},
          "execution_count": 25
        }
      ]
    },
    {
      "cell_type": "code",
      "metadata": {
        "id": "nsAudj-KGNf8"
      },
      "source": [
        "#Para saber o tamanho da lista"
      ],
      "execution_count": 28,
      "outputs": []
    },
    {
      "cell_type": "code",
      "metadata": {
        "colab": {
          "base_uri": "https://localhost:8080/"
        },
        "id": "87W1DG0YGfch",
        "outputId": "6a011d5e-561c-495a-983d-dd571bb2a54f"
      },
      "source": [
        "len(animais)"
      ],
      "execution_count": 29,
      "outputs": [
        {
          "output_type": "execute_result",
          "data": {
            "text/plain": [
              "3"
            ]
          },
          "metadata": {},
          "execution_count": 29
        }
      ]
    },
    {
      "cell_type": "code",
      "metadata": {
        "colab": {
          "base_uri": "https://localhost:8080/"
        },
        "id": "jZim4HBrGi78",
        "outputId": "2b0711f6-3063-4116-a068-2b9da7981e6e"
      },
      "source": [
        "\"gatos\" in animais"
      ],
      "execution_count": 31,
      "outputs": [
        {
          "output_type": "execute_result",
          "data": {
            "text/plain": [
              "True"
            ]
          },
          "metadata": {},
          "execution_count": 31
        }
      ]
    },
    {
      "cell_type": "code",
      "metadata": {
        "colab": {
          "base_uri": "https://localhost:8080/"
        },
        "id": "njFC1wzvG2J3",
        "outputId": "98d10300-57c6-44ac-908f-6fa9d92ec201"
      },
      "source": [
        "\"cavalos\" in animais"
      ],
      "execution_count": 32,
      "outputs": [
        {
          "output_type": "execute_result",
          "data": {
            "text/plain": [
              "True"
            ]
          },
          "metadata": {},
          "execution_count": 32
        }
      ]
    },
    {
      "cell_type": "code",
      "metadata": {
        "colab": {
          "base_uri": "https://localhost:8080/"
        },
        "id": "XLUxutjcG66C",
        "outputId": "827093f9-df4b-4099-9b92-e2f5a89dd17c"
      },
      "source": [
        "\"papagaio\" in animais"
      ],
      "execution_count": 33,
      "outputs": [
        {
          "output_type": "execute_result",
          "data": {
            "text/plain": [
              "False"
            ]
          },
          "metadata": {},
          "execution_count": 33
        }
      ]
    },
    {
      "cell_type": "code",
      "metadata": {
        "id": "f5ad47TBHCE6"
      },
      "source": [
        "lista = [1000,200,500,900]"
      ],
      "execution_count": 34,
      "outputs": []
    },
    {
      "cell_type": "code",
      "metadata": {
        "colab": {
          "base_uri": "https://localhost:8080/"
        },
        "id": "D97owe8mHHgc",
        "outputId": "68ad9dbf-9d76-43ea-99ba-3913c34e2e9f"
      },
      "source": [
        "lista"
      ],
      "execution_count": 35,
      "outputs": [
        {
          "output_type": "execute_result",
          "data": {
            "text/plain": [
              "[1000, 200, 500, 900]"
            ]
          },
          "metadata": {},
          "execution_count": 35
        }
      ]
    },
    {
      "cell_type": "code",
      "metadata": {
        "colab": {
          "base_uri": "https://localhost:8080/"
        },
        "id": "QdWZjBQGHLhy",
        "outputId": "62468dea-c85d-4e07-8296-051ba1d4120f"
      },
      "source": [
        "max(lista)"
      ],
      "execution_count": 36,
      "outputs": [
        {
          "output_type": "execute_result",
          "data": {
            "text/plain": [
              "1000"
            ]
          },
          "metadata": {},
          "execution_count": 36
        }
      ]
    },
    {
      "cell_type": "code",
      "metadata": {
        "colab": {
          "base_uri": "https://localhost:8080/"
        },
        "id": "dbIGYeyjHOyE",
        "outputId": "ceed1d6e-cb49-4794-db3a-f2c3a29d65cf"
      },
      "source": [
        "min(lista)"
      ],
      "execution_count": 37,
      "outputs": [
        {
          "output_type": "execute_result",
          "data": {
            "text/plain": [
              "200"
            ]
          },
          "metadata": {},
          "execution_count": 37
        }
      ]
    },
    {
      "cell_type": "code",
      "metadata": {
        "id": "kpyP4C7nHZ-V"
      },
      "source": [
        "animais.append(\"leão\")"
      ],
      "execution_count": 38,
      "outputs": []
    },
    {
      "cell_type": "code",
      "metadata": {
        "colab": {
          "base_uri": "https://localhost:8080/"
        },
        "id": "iYa-yej4Hfta",
        "outputId": "080b32f1-bbb0-4d59-85cf-2888a607bccd"
      },
      "source": [
        "animais"
      ],
      "execution_count": 39,
      "outputs": [
        {
          "output_type": "execute_result",
          "data": {
            "text/plain": [
              "['cavalos', 'gatos', 'cachorro', 'leão']"
            ]
          },
          "metadata": {},
          "execution_count": 39
        }
      ]
    },
    {
      "cell_type": "code",
      "metadata": {
        "id": "XCKL5ID-HwB0"
      },
      "source": [
        "# Para colocar mais de um elemento de uma vez a lista usa o extend"
      ],
      "execution_count": 40,
      "outputs": []
    },
    {
      "cell_type": "code",
      "metadata": {
        "id": "cqRk96j4H4PD"
      },
      "source": [
        "animais.extend([\"papagaio\", 3] )"
      ],
      "execution_count": 43,
      "outputs": []
    },
    {
      "cell_type": "code",
      "metadata": {
        "colab": {
          "base_uri": "https://localhost:8080/"
        },
        "id": "JnI5I73DIiLM",
        "outputId": "54f652f2-a583-4269-c981-2c1e248a260d"
      },
      "source": [
        "animais"
      ],
      "execution_count": 44,
      "outputs": [
        {
          "output_type": "execute_result",
          "data": {
            "text/plain": [
              "['cavalos', 'gatos', 'cachorro', 'leão', 'papagaio', 3]"
            ]
          },
          "metadata": {},
          "execution_count": 44
        }
      ]
    },
    {
      "cell_type": "code",
      "metadata": {
        "colab": {
          "base_uri": "https://localhost:8080/"
        },
        "id": "oOq4lWHlI8ia",
        "outputId": "5ed0ff44-3f37-4424-efcd-6f8592aded05"
      },
      "source": [
        "animais.count(\"cachorro\")"
      ],
      "execution_count": 45,
      "outputs": [
        {
          "output_type": "execute_result",
          "data": {
            "text/plain": [
              "1"
            ]
          },
          "metadata": {},
          "execution_count": 45
        }
      ]
    },
    {
      "cell_type": "code",
      "metadata": {
        "colab": {
          "base_uri": "https://localhost:8080/"
        },
        "id": "Nsrk94sIJFXt",
        "outputId": "f779d879-38cf-4450-9005-88a12e1216f8"
      },
      "source": [
        "lista.sort"
      ],
      "execution_count": 46,
      "outputs": [
        {
          "output_type": "execute_result",
          "data": {
            "text/plain": [
              "<function list.sort>"
            ]
          },
          "metadata": {},
          "execution_count": 46
        }
      ]
    },
    {
      "cell_type": "code",
      "metadata": {
        "id": "DA6jqIDNJKFi"
      },
      "source": [
        "lista.sort()"
      ],
      "execution_count": 48,
      "outputs": []
    },
    {
      "cell_type": "code",
      "metadata": {
        "colab": {
          "base_uri": "https://localhost:8080/"
        },
        "id": "k_udKZfVJPDi",
        "outputId": "29e1f4f9-6b96-4d44-8a29-e4105f1fb068"
      },
      "source": [
        "animais"
      ],
      "execution_count": 49,
      "outputs": [
        {
          "output_type": "execute_result",
          "data": {
            "text/plain": [
              "['cavalos', 'gatos', 'cachorro', 'leão', 'papagaio', 3]"
            ]
          },
          "metadata": {},
          "execution_count": 49
        }
      ]
    },
    {
      "cell_type": "code",
      "metadata": {
        "colab": {
          "base_uri": "https://localhost:8080/"
        },
        "id": "ryJhMb4gJasN",
        "outputId": "84414206-4408-4c8a-87dd-08167930c200"
      },
      "source": [
        "lista"
      ],
      "execution_count": 50,
      "outputs": [
        {
          "output_type": "execute_result",
          "data": {
            "text/plain": [
              "[200, 500, 900, 1000]"
            ]
          },
          "metadata": {},
          "execution_count": 50
        }
      ]
    },
    {
      "cell_type": "code",
      "metadata": {
        "id": "YBh05MOdJknl"
      },
      "source": [
        "# As tuplas usam parênteses como sintaxe"
      ],
      "execution_count": 51,
      "outputs": []
    },
    {
      "cell_type": "code",
      "metadata": {
        "id": "JnBaomE_Juw5"
      },
      "source": [
        "tp= (\"banana\",\"laranja\",\"manga\", 30)"
      ],
      "execution_count": 53,
      "outputs": []
    },
    {
      "cell_type": "code",
      "metadata": {
        "colab": {
          "base_uri": "https://localhost:8080/"
        },
        "id": "C8ih998WKEA3",
        "outputId": "f9cc6e88-03a3-45b3-f125-f173a8cc4cfe"
      },
      "source": [
        "tp"
      ],
      "execution_count": 54,
      "outputs": [
        {
          "output_type": "execute_result",
          "data": {
            "text/plain": [
              "('banana', 'laranja', 'manga', 30)"
            ]
          },
          "metadata": {},
          "execution_count": 54
        }
      ]
    },
    {
      "cell_type": "code",
      "metadata": {
        "id": "E9JTy_XaKMRe"
      },
      "source": [
        "#retornao o primeiro elemento"
      ],
      "execution_count": 55,
      "outputs": []
    },
    {
      "cell_type": "code",
      "metadata": {
        "colab": {
          "base_uri": "https://localhost:8080/",
          "height": 35
        },
        "id": "8Th4kk0yKQiL",
        "outputId": "44076aa4-b300-40ec-b2f1-d217d6fab903"
      },
      "source": [
        "tp[0]"
      ],
      "execution_count": 56,
      "outputs": [
        {
          "output_type": "execute_result",
          "data": {
            "application/vnd.google.colaboratory.intrinsic+json": {
              "type": "string"
            },
            "text/plain": [
              "'banana'"
            ]
          },
          "metadata": {},
          "execution_count": 56
        }
      ]
    },
    {
      "cell_type": "code",
      "metadata": {
        "colab": {
          "base_uri": "https://localhost:8080/"
        },
        "id": "vtku6K0OUv-w",
        "outputId": "ec68fa47-6f7e-4b1e-aeab-e3b58bc4b451"
      },
      "source": [
        "tp[0:1]"
      ],
      "execution_count": 57,
      "outputs": [
        {
          "output_type": "execute_result",
          "data": {
            "text/plain": [
              "('banana',)"
            ]
          },
          "metadata": {},
          "execution_count": 57
        }
      ]
    },
    {
      "cell_type": "code",
      "metadata": {
        "id": "XNptEvrbVJQt"
      },
      "source": [
        "#Para criar um dicionário usamos as {}"
      ],
      "execution_count": 58,
      "outputs": []
    },
    {
      "cell_type": "code",
      "metadata": {
        "id": "_o6Y3Wb0VOLN"
      },
      "source": [
        "dc={\"banana\":30,\"uva\":50,\"manga\":14}"
      ],
      "execution_count": 59,
      "outputs": []
    },
    {
      "cell_type": "code",
      "metadata": {
        "colab": {
          "base_uri": "https://localhost:8080/"
        },
        "id": "MsDlTjO9VcQe",
        "outputId": "a4faf80b-0de5-41a3-825f-d22e71ec6a09"
      },
      "source": [
        "dc"
      ],
      "execution_count": 60,
      "outputs": [
        {
          "output_type": "execute_result",
          "data": {
            "text/plain": [
              "{'banana': 30, 'manga': 14, 'uva': 50}"
            ]
          },
          "metadata": {},
          "execution_count": 60
        }
      ]
    },
    {
      "cell_type": "code",
      "metadata": {
        "id": "IVnn0r_fVnj3"
      },
      "source": [
        "#Acessando o dicionário , ele mostra o valor"
      ],
      "execution_count": null,
      "outputs": []
    },
    {
      "cell_type": "code",
      "metadata": {
        "colab": {
          "base_uri": "https://localhost:8080/"
        },
        "id": "BatfkZ7GVsvf",
        "outputId": "de6f14be-a502-4ca2-853d-22299b7e4f2c"
      },
      "source": [
        "dc[\"uva\"]"
      ],
      "execution_count": 62,
      "outputs": [
        {
          "output_type": "execute_result",
          "data": {
            "text/plain": [
              "50"
            ]
          },
          "metadata": {},
          "execution_count": 62
        }
      ]
    },
    {
      "cell_type": "code",
      "metadata": {
        "id": "SgRUYNLEV9fd"
      },
      "source": [
        "dc[\"uva\"] =10"
      ],
      "execution_count": 65,
      "outputs": []
    },
    {
      "cell_type": "code",
      "metadata": {
        "colab": {
          "base_uri": "https://localhost:8080/"
        },
        "id": "qatsdqyaWUUd",
        "outputId": "4eb618cd-7c1d-4908-cfae-b105054338c7"
      },
      "source": [
        "dc[\"uva\"]"
      ],
      "execution_count": 66,
      "outputs": [
        {
          "output_type": "execute_result",
          "data": {
            "text/plain": [
              "10"
            ]
          },
          "metadata": {},
          "execution_count": 66
        }
      ]
    },
    {
      "cell_type": "code",
      "metadata": {
        "colab": {
          "base_uri": "https://localhost:8080/"
        },
        "id": "cwf_lctCWcUw",
        "outputId": "0ac3f0c5-901e-40f3-f404-daee3a882591"
      },
      "source": [
        "dc"
      ],
      "execution_count": 67,
      "outputs": [
        {
          "output_type": "execute_result",
          "data": {
            "text/plain": [
              "{'banana': 30, 'manga': 14, 'uva': 10}"
            ]
          },
          "metadata": {},
          "execution_count": 67
        }
      ]
    },
    {
      "cell_type": "code",
      "metadata": {
        "colab": {
          "base_uri": "https://localhost:8080/"
        },
        "id": "2L_C1bwbWh8u",
        "outputId": "53512ac2-674b-44cc-f44c-a1f1cab16d40"
      },
      "source": [
        "dc.keys"
      ],
      "execution_count": 69,
      "outputs": [
        {
          "output_type": "execute_result",
          "data": {
            "text/plain": [
              "<function dict.keys>"
            ]
          },
          "metadata": {},
          "execution_count": 69
        }
      ]
    },
    {
      "cell_type": "code",
      "metadata": {
        "colab": {
          "base_uri": "https://localhost:8080/"
        },
        "id": "3242-aJGWmLG",
        "outputId": "b04f88f1-f92a-45b8-c7e5-6d91d47739e9"
      },
      "source": [
        "dc.keys()"
      ],
      "execution_count": 70,
      "outputs": [
        {
          "output_type": "execute_result",
          "data": {
            "text/plain": [
              "dict_keys(['banana', 'uva', 'manga'])"
            ]
          },
          "metadata": {},
          "execution_count": 70
        }
      ]
    },
    {
      "cell_type": "code",
      "metadata": {
        "colab": {
          "base_uri": "https://localhost:8080/"
        },
        "id": "GhpOoxiPWwse",
        "outputId": "89515623-b4c5-419b-922f-57cd72e05761"
      },
      "source": [
        "dc.values()"
      ],
      "execution_count": 71,
      "outputs": [
        {
          "output_type": "execute_result",
          "data": {
            "text/plain": [
              "dict_values([30, 10, 14])"
            ]
          },
          "metadata": {},
          "execution_count": 71
        }
      ]
    },
    {
      "cell_type": "code",
      "metadata": {
        "colab": {
          "base_uri": "https://localhost:8080/"
        },
        "id": "wMkUSpr-Wzj5",
        "outputId": "0f57c1d1-9713-411a-fffa-7c54b8f616dd"
      },
      "source": [
        "dc.setdefault(\"limão\", 5)"
      ],
      "execution_count": 75,
      "outputs": [
        {
          "output_type": "execute_result",
          "data": {
            "text/plain": [
              "5"
            ]
          },
          "metadata": {},
          "execution_count": 75
        }
      ]
    },
    {
      "cell_type": "code",
      "metadata": {
        "colab": {
          "base_uri": "https://localhost:8080/"
        },
        "id": "40QB0DsvXcOf",
        "outputId": "71cd3e12-c2df-4fbc-fd88-e5c0aaebb3e3"
      },
      "source": [
        "dc"
      ],
      "execution_count": 76,
      "outputs": [
        {
          "output_type": "execute_result",
          "data": {
            "text/plain": [
              "{'banana': 30, 'limão': 5, 'manga': 14, 'uva': 10}"
            ]
          },
          "metadata": {},
          "execution_count": 76
        }
      ]
    }
  ]
}